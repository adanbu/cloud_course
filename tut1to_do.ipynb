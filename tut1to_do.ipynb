{
  "nbformat": 4,
  "nbformat_minor": 0,
  "metadata": {
    "colab": {
      "provenance": [],
      "authorship_tag": "ABX9TyNKwzaX9zUn43+Ty30dbgxS",
      "include_colab_link": true
    },
    "kernelspec": {
      "name": "python3",
      "display_name": "Python 3"
    },
    "language_info": {
      "name": "python"
    },
    "widgets": {
      "application/vnd.jupyter.widget-state+json": {
        "73952e31d8c740518b43221baf069252": {
          "model_module": "@jupyter-widgets/controls",
          "model_name": "DropdownModel",
          "model_module_version": "1.5.0",
          "state": {
            "_dom_classes": [],
            "_model_module": "@jupyter-widgets/controls",
            "_model_module_version": "1.5.0",
            "_model_name": "DropdownModel",
            "_options_labels": [
              "Adan Butto",
              "Abdulla abu-elhija",
              "Razi Mograbi",
              "Fadi a",
              "Kutaiba a",
              "Abdullah a"
            ],
            "_view_count": null,
            "_view_module": "@jupyter-widgets/controls",
            "_view_module_version": "1.5.0",
            "_view_name": "DropdownView",
            "description": "Select Student:",
            "description_tooltip": null,
            "disabled": false,
            "index": 1,
            "layout": "IPY_MODEL_a632eee6d2424346a38e8842572f6eee",
            "style": "IPY_MODEL_a578db59535d45e2ba6f96705994d3f4"
          }
        },
        "a632eee6d2424346a38e8842572f6eee": {
          "model_module": "@jupyter-widgets/base",
          "model_name": "LayoutModel",
          "model_module_version": "1.2.0",
          "state": {
            "_model_module": "@jupyter-widgets/base",
            "_model_module_version": "1.2.0",
            "_model_name": "LayoutModel",
            "_view_count": null,
            "_view_module": "@jupyter-widgets/base",
            "_view_module_version": "1.2.0",
            "_view_name": "LayoutView",
            "align_content": null,
            "align_items": null,
            "align_self": null,
            "border": null,
            "bottom": null,
            "display": null,
            "flex": null,
            "flex_flow": null,
            "grid_area": null,
            "grid_auto_columns": null,
            "grid_auto_flow": null,
            "grid_auto_rows": null,
            "grid_column": null,
            "grid_gap": null,
            "grid_row": null,
            "grid_template_areas": null,
            "grid_template_columns": null,
            "grid_template_rows": null,
            "height": null,
            "justify_content": null,
            "justify_items": null,
            "left": null,
            "margin": null,
            "max_height": null,
            "max_width": null,
            "min_height": null,
            "min_width": null,
            "object_fit": null,
            "object_position": null,
            "order": null,
            "overflow": null,
            "overflow_x": null,
            "overflow_y": null,
            "padding": null,
            "right": null,
            "top": null,
            "visibility": null,
            "width": null
          }
        },
        "a578db59535d45e2ba6f96705994d3f4": {
          "model_module": "@jupyter-widgets/controls",
          "model_name": "DescriptionStyleModel",
          "model_module_version": "1.5.0",
          "state": {
            "_model_module": "@jupyter-widgets/controls",
            "_model_module_version": "1.5.0",
            "_model_name": "DescriptionStyleModel",
            "_view_count": null,
            "_view_module": "@jupyter-widgets/base",
            "_view_module_version": "1.2.0",
            "_view_name": "StyleView",
            "description_width": ""
          }
        },
        "5c4378e137df47a48ff9dfc551d8facb": {
          "model_module": "@jupyter-widgets/controls",
          "model_name": "TextModel",
          "model_module_version": "1.5.0",
          "state": {
            "_dom_classes": [],
            "_model_module": "@jupyter-widgets/controls",
            "_model_module_version": "1.5.0",
            "_model_name": "TextModel",
            "_view_count": null,
            "_view_module": "@jupyter-widgets/controls",
            "_view_module_version": "1.5.0",
            "_view_name": "TextView",
            "continuous_update": true,
            "description": "Favorite Program:",
            "description_tooltip": null,
            "disabled": false,
            "layout": "IPY_MODEL_72586f1fca9b4b76a79df1afc20e64ab",
            "placeholder": "​",
            "style": "IPY_MODEL_014a7b152d5649d5baa2f853f4cec014",
            "value": ""
          }
        },
        "72586f1fca9b4b76a79df1afc20e64ab": {
          "model_module": "@jupyter-widgets/base",
          "model_name": "LayoutModel",
          "model_module_version": "1.2.0",
          "state": {
            "_model_module": "@jupyter-widgets/base",
            "_model_module_version": "1.2.0",
            "_model_name": "LayoutModel",
            "_view_count": null,
            "_view_module": "@jupyter-widgets/base",
            "_view_module_version": "1.2.0",
            "_view_name": "LayoutView",
            "align_content": null,
            "align_items": null,
            "align_self": null,
            "border": null,
            "bottom": null,
            "display": null,
            "flex": null,
            "flex_flow": null,
            "grid_area": null,
            "grid_auto_columns": null,
            "grid_auto_flow": null,
            "grid_auto_rows": null,
            "grid_column": null,
            "grid_gap": null,
            "grid_row": null,
            "grid_template_areas": null,
            "grid_template_columns": null,
            "grid_template_rows": null,
            "height": null,
            "justify_content": null,
            "justify_items": null,
            "left": null,
            "margin": null,
            "max_height": null,
            "max_width": null,
            "min_height": null,
            "min_width": null,
            "object_fit": null,
            "object_position": null,
            "order": null,
            "overflow": null,
            "overflow_x": null,
            "overflow_y": null,
            "padding": null,
            "right": null,
            "top": null,
            "visibility": null,
            "width": null
          }
        },
        "014a7b152d5649d5baa2f853f4cec014": {
          "model_module": "@jupyter-widgets/controls",
          "model_name": "DescriptionStyleModel",
          "model_module_version": "1.5.0",
          "state": {
            "_model_module": "@jupyter-widgets/controls",
            "_model_module_version": "1.5.0",
            "_model_name": "DescriptionStyleModel",
            "_view_count": null,
            "_view_module": "@jupyter-widgets/base",
            "_view_module_version": "1.2.0",
            "_view_name": "StyleView",
            "description_width": ""
          }
        },
        "4caa5a1d7727487ea37025f413722fe8": {
          "model_module": "@jupyter-widgets/controls",
          "model_name": "ButtonModel",
          "model_module_version": "1.5.0",
          "state": {
            "_dom_classes": [],
            "_model_module": "@jupyter-widgets/controls",
            "_model_module_version": "1.5.0",
            "_model_name": "ButtonModel",
            "_view_count": null,
            "_view_module": "@jupyter-widgets/controls",
            "_view_module_version": "1.5.0",
            "_view_name": "ButtonView",
            "button_style": "",
            "description": "Update Favorite Program",
            "disabled": false,
            "icon": "",
            "layout": "IPY_MODEL_6ed15a78af1b4e52adee1f5f0b57639e",
            "style": "IPY_MODEL_604092e339454fd28346e6e96b765d5c",
            "tooltip": ""
          }
        },
        "6ed15a78af1b4e52adee1f5f0b57639e": {
          "model_module": "@jupyter-widgets/base",
          "model_name": "LayoutModel",
          "model_module_version": "1.2.0",
          "state": {
            "_model_module": "@jupyter-widgets/base",
            "_model_module_version": "1.2.0",
            "_model_name": "LayoutModel",
            "_view_count": null,
            "_view_module": "@jupyter-widgets/base",
            "_view_module_version": "1.2.0",
            "_view_name": "LayoutView",
            "align_content": null,
            "align_items": null,
            "align_self": null,
            "border": null,
            "bottom": null,
            "display": null,
            "flex": null,
            "flex_flow": null,
            "grid_area": null,
            "grid_auto_columns": null,
            "grid_auto_flow": null,
            "grid_auto_rows": null,
            "grid_column": null,
            "grid_gap": null,
            "grid_row": null,
            "grid_template_areas": null,
            "grid_template_columns": null,
            "grid_template_rows": null,
            "height": null,
            "justify_content": null,
            "justify_items": null,
            "left": null,
            "margin": null,
            "max_height": null,
            "max_width": null,
            "min_height": null,
            "min_width": null,
            "object_fit": null,
            "object_position": null,
            "order": null,
            "overflow": null,
            "overflow_x": null,
            "overflow_y": null,
            "padding": null,
            "right": null,
            "top": null,
            "visibility": null,
            "width": null
          }
        },
        "604092e339454fd28346e6e96b765d5c": {
          "model_module": "@jupyter-widgets/controls",
          "model_name": "ButtonStyleModel",
          "model_module_version": "1.5.0",
          "state": {
            "_model_module": "@jupyter-widgets/controls",
            "_model_module_version": "1.5.0",
            "_model_name": "ButtonStyleModel",
            "_view_count": null,
            "_view_module": "@jupyter-widgets/base",
            "_view_module_version": "1.2.0",
            "_view_name": "StyleView",
            "button_color": null,
            "font_weight": ""
          }
        },
        "92e1dc06420d45ee928ae302eed9786c": {
          "model_module": "@jupyter-widgets/output",
          "model_name": "OutputModel",
          "model_module_version": "1.0.0",
          "state": {
            "_dom_classes": [],
            "_model_module": "@jupyter-widgets/output",
            "_model_module_version": "1.0.0",
            "_model_name": "OutputModel",
            "_view_count": null,
            "_view_module": "@jupyter-widgets/output",
            "_view_module_version": "1.0.0",
            "_view_name": "OutputView",
            "layout": "IPY_MODEL_320e41f9158040deb35eb1875da346c5",
            "msg_id": "",
            "outputs": [
              {
                "output_type": "display_data",
                "data": {
                  "text/plain": "<IPython.core.display.HTML object>",
                  "text/html": "<b>Name:</b> Abdulla abu-elhija"
                },
                "metadata": {}
              },
              {
                "output_type": "display_data",
                "data": {
                  "text/plain": "<IPython.core.display.HTML object>",
                  "text/html": "<b>Email:</b> heija@braude.ac.il"
                },
                "metadata": {}
              },
              {
                "output_type": "display_data",
                "data": {
                  "text/plain": "<IPython.core.display.HTML object>",
                  "text/html": "<b>Courses:</b> Cloud,Web,AI,Data-mining-and-ML,Physics,Networks"
                },
                "metadata": {}
              },
              {
                "output_type": "display_data",
                "data": {
                  "text/plain": "<IPython.core.display.HTML object>",
                  "text/html": "<b>Favorite Program:</b> "
                },
                "metadata": {}
              }
            ]
          }
        },
        "320e41f9158040deb35eb1875da346c5": {
          "model_module": "@jupyter-widgets/base",
          "model_name": "LayoutModel",
          "model_module_version": "1.2.0",
          "state": {
            "_model_module": "@jupyter-widgets/base",
            "_model_module_version": "1.2.0",
            "_model_name": "LayoutModel",
            "_view_count": null,
            "_view_module": "@jupyter-widgets/base",
            "_view_module_version": "1.2.0",
            "_view_name": "LayoutView",
            "align_content": null,
            "align_items": null,
            "align_self": null,
            "border": null,
            "bottom": null,
            "display": null,
            "flex": null,
            "flex_flow": null,
            "grid_area": null,
            "grid_auto_columns": null,
            "grid_auto_flow": null,
            "grid_auto_rows": null,
            "grid_column": null,
            "grid_gap": null,
            "grid_row": null,
            "grid_template_areas": null,
            "grid_template_columns": null,
            "grid_template_rows": null,
            "height": null,
            "justify_content": null,
            "justify_items": null,
            "left": null,
            "margin": null,
            "max_height": null,
            "max_width": null,
            "min_height": null,
            "min_width": null,
            "object_fit": null,
            "object_position": null,
            "order": null,
            "overflow": null,
            "overflow_x": null,
            "overflow_y": null,
            "padding": null,
            "right": null,
            "top": null,
            "visibility": null,
            "width": null
          }
        }
      }
    }
  },
  "cells": [
    {
      "cell_type": "markdown",
      "metadata": {
        "id": "view-in-github",
        "colab_type": "text"
      },
      "source": [
        "<a href=\"https://colab.research.google.com/github/adanbu/cloud_course/blob/main/tut1to_do.ipynb\" target=\"_parent\"><img src=\"https://colab.research.google.com/assets/colab-badge.svg\" alt=\"Open In Colab\"/></a>"
      ]
    },
    {
      "cell_type": "code",
      "source": [
        "from google.colab import drive\n",
        "drive.mount('/content/drive')\n"
      ],
      "metadata": {
        "colab": {
          "base_uri": "https://localhost:8080/"
        },
        "id": "DGljBdCHn4P4",
        "outputId": "2a92256c-824b-4da1-b387-0df6dfebb4ba"
      },
      "execution_count": 1,
      "outputs": [
        {
          "output_type": "stream",
          "name": "stdout",
          "text": [
            "Mounted at /content/drive\n"
          ]
        }
      ]
    },
    {
      "cell_type": "code",
      "source": [
        "cd drive\n"
      ],
      "metadata": {
        "colab": {
          "base_uri": "https://localhost:8080/"
        },
        "id": "IuTqCgC0pYN2",
        "outputId": "7722faec-bd2b-49d7-9749-42b460c02377"
      },
      "execution_count": 13,
      "outputs": [
        {
          "output_type": "stream",
          "name": "stdout",
          "text": [
            "/content/drive\n"
          ]
        }
      ]
    },
    {
      "cell_type": "code",
      "source": [
        "cd MyDrive\n"
      ],
      "metadata": {
        "colab": {
          "base_uri": "https://localhost:8080/"
        },
        "id": "bOssSOYgph68",
        "outputId": "7fe0f066-ca13-477e-b94e-9b73ab36531e"
      },
      "execution_count": 15,
      "outputs": [
        {
          "output_type": "stream",
          "name": "stdout",
          "text": [
            "/content/drive/MyDrive\n"
          ]
        }
      ]
    },
    {
      "cell_type": "code",
      "source": [
        "cd cloud_course"
      ],
      "metadata": {
        "colab": {
          "base_uri": "https://localhost:8080/"
        },
        "id": "XDjzfifhp6rV",
        "outputId": "07b0047b-a0c2-4d5f-caab-5eb2672e59ec"
      },
      "execution_count": 16,
      "outputs": [
        {
          "output_type": "stream",
          "name": "stdout",
          "text": [
            "/content/drive/MyDrive/cloud_course\n"
          ]
        }
      ]
    },
    {
      "cell_type": "code",
      "source": [
        "with open(\"students.txt\", 'r') as file:\n",
        "  contents =file.readlines()\n",
        "  print(contents)\n",
        "\n",
        "\n",
        "file.close()"
      ],
      "metadata": {
        "colab": {
          "base_uri": "https://localhost:8080/"
        },
        "id": "hCZlYugHqBQB",
        "outputId": "08113007-cc30-44b8-e114-9a25ebb0ae7c"
      },
      "execution_count": 17,
      "outputs": [
        {
          "output_type": "stream",
          "name": "stdout",
          "text": [
            "['Adan Butto adan.butto@e.braude.ac.il Cloud, Web, AI ,Data mining and ML, Physics, Networks\\n', 'Abdulla abu elhija\\n', 'Razi Mograbi\\n', 'Fadi\\n', 'Kutaiba\\n', 'Abdullah']\n"
          ]
        }
      ]
    },
    {
      "cell_type": "code",
      "execution_count": 33,
      "metadata": {
        "colab": {
          "base_uri": "https://localhost:8080/",
          "height": 181,
          "referenced_widgets": [
            "73952e31d8c740518b43221baf069252",
            "a632eee6d2424346a38e8842572f6eee",
            "a578db59535d45e2ba6f96705994d3f4",
            "5c4378e137df47a48ff9dfc551d8facb",
            "72586f1fca9b4b76a79df1afc20e64ab",
            "014a7b152d5649d5baa2f853f4cec014",
            "4caa5a1d7727487ea37025f413722fe8",
            "6ed15a78af1b4e52adee1f5f0b57639e",
            "604092e339454fd28346e6e96b765d5c",
            "92e1dc06420d45ee928ae302eed9786c",
            "320e41f9158040deb35eb1875da346c5"
          ]
        },
        "id": "LSL_Sgpcilnu",
        "outputId": "c6fe15e9-5edd-407f-aa52-5668fb0018dd"
      },
      "outputs": [
        {
          "output_type": "display_data",
          "data": {
            "text/plain": [
              "Dropdown(description='Select Student:', options=('Adan Butto', 'Abdulla abu-elhija', 'Razi Mograbi', 'Fadi a',…"
            ],
            "application/vnd.jupyter.widget-view+json": {
              "version_major": 2,
              "version_minor": 0,
              "model_id": "73952e31d8c740518b43221baf069252"
            }
          },
          "metadata": {}
        },
        {
          "output_type": "display_data",
          "data": {
            "text/plain": [
              "Text(value='', description='Favorite Program:')"
            ],
            "application/vnd.jupyter.widget-view+json": {
              "version_major": 2,
              "version_minor": 0,
              "model_id": "5c4378e137df47a48ff9dfc551d8facb"
            }
          },
          "metadata": {}
        },
        {
          "output_type": "display_data",
          "data": {
            "text/plain": [
              "Button(description='Update Favorite Program', style=ButtonStyle())"
            ],
            "application/vnd.jupyter.widget-view+json": {
              "version_major": 2,
              "version_minor": 0,
              "model_id": "4caa5a1d7727487ea37025f413722fe8"
            }
          },
          "metadata": {}
        },
        {
          "output_type": "display_data",
          "data": {
            "text/plain": [
              "Output()"
            ],
            "application/vnd.jupyter.widget-view+json": {
              "version_major": 2,
              "version_minor": 0,
              "model_id": "92e1dc06420d45ee928ae302eed9786c"
            }
          },
          "metadata": {}
        }
      ],
      "source": [
        "\n",
        "from google.colab import files\n",
        "import ipywidgets as widgets\n",
        "from IPython.display import display, HTML\n",
        "\n",
        "with open(\"students.txt\", 'r') as file:\n",
        "  contents =file.read()\n",
        "\n",
        "# Split the content into lines and parse student information\n",
        "students = {}\n",
        "for line in contents.split('\\n'):\n",
        "    if line.strip() != \"\":\n",
        "      data = line.split(' ')\n",
        "      name = f\"{data[0]} {data[1]}\"\n",
        "      students[name] = {\n",
        "          'first_name': data[0],\n",
        "          'last_name': data[1],\n",
        "          'email': data[2],\n",
        "          'courses': data[3],\n",
        "          'favorite_program': ''\n",
        "      }\n",
        "\n",
        "# Dropdown menu for student selection\n",
        "student_dropdown = widgets.Dropdown(\n",
        "    options=list(students.keys()),\n",
        "    value=list(students.keys())[0],\n",
        "    description='Select Student:',\n",
        ")\n",
        "\n",
        "# Text field for favorite program\n",
        "favorite_program_text = widgets.Text(\n",
        "    value='',\n",
        "    description='Favorite Program:',\n",
        ")\n",
        "\n",
        "# Button to update favorite program\n",
        "update_button = widgets.Button(description=\"Update Favorite Program\")\n",
        "\n",
        "# Output widget to display student information\n",
        "output_info = widgets.Output()\n",
        "\n",
        "# Display widgets\n",
        "display(student_dropdown)\n",
        "display(favorite_program_text)\n",
        "display(update_button)\n",
        "display(output_info)\n",
        "\n",
        "def update_student_info(change):\n",
        "    selected_student = student_dropdown.value\n",
        "    favorite_program = favorite_program_text.value\n",
        "\n",
        "    # Update favorite program for the selected student\n",
        "    students[selected_student]['favorite_program'] = favorite_program\n",
        "\n",
        "    with open(\"students.txt\", 'w') as file:\n",
        "        for student_name, student_data in students.items():\n",
        "            file.write(f\"{student_data['first_name']} {student_data['last_name']} {student_data['email']} {student_data['courses']} {student_data['favorite_program']}\\n\")\n",
        "\n",
        "    # Display updated student information\n",
        "    with output_info:\n",
        "        output_info.clear_output(wait=True)\n",
        "        display(HTML(f\"<b>Name:</b> {students[selected_student]['first_name']} {students[selected_student]['last_name']}\"))\n",
        "        display(HTML(f\"<b>Email:</b> {students[selected_student]['email']}\"))\n",
        "        display(HTML(f\"<b>Courses:</b> {students[selected_student]['courses']}\"))\n",
        "        display(HTML(f\"<b>Favorite Program:</b> {students[selected_student]['favorite_program']}\"))\n",
        "\n",
        "# Register the update function to the button click event\n",
        "student_dropdown.observe(update_student_info, names='value')\n",
        "update_button.on_click(update_student_info)\n"
      ]
    },
    {
      "cell_type": "code",
      "source": [],
      "metadata": {
        "colab": {
          "base_uri": "https://localhost:8080/"
        },
        "outputId": "08113007-cc30-44b8-e114-9a25ebb0ae7c",
        "id": "G99rH8XY2J_w"
      },
      "execution_count": null,
      "outputs": [
        {
          "output_type": "stream",
          "name": "stdout",
          "text": [
            "['Adan Butto adan.butto@e.braude.ac.il Cloud, Web, AI ,Data mining and ML, Physics, Networks\\n', 'Abdulla abu elhija\\n', 'Razi Mograbi\\n', 'Fadi\\n', 'Kutaiba\\n', 'Abdullah']\n"
          ]
        }
      ]
    }
  ]
}